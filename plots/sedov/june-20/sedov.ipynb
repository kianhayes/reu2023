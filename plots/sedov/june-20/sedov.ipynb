{
 "cells": [
  {
   "cell_type": "code",
   "execution_count": 3,
   "metadata": {},
   "outputs": [],
   "source": [
    "import yt"
   ]
  },
  {
   "cell_type": "code",
   "execution_count": 8,
   "metadata": {},
   "outputs": [],
   "source": [
    "import os\n",
    "os.chdir('/gpfs/projects/CalderGroup/KianSpace/sedov_runs')\n",
    "s = yt.load('/gpfs/projects/CalderGroup/KianSpace/sedov_runs/results/sedov_hdf5_plt_cnt_*')"
   ]
  },
  {
   "cell_type": "code",
   "execution_count": 11,
   "metadata": {},
   "outputs": [
    {
     "name": "stderr",
     "output_type": "stream",
     "text": [
      "yt : [INFO     ] 2023-06-25 10:10:26,680 Parameters: current_time              = 0.0\n",
      "yt : [INFO     ] 2023-06-25 10:10:26,681 Parameters: domain_dimensions         = [16 16 16]\n",
      "yt : [INFO     ] 2023-06-25 10:10:26,682 Parameters: domain_left_edge          = [0. 0. 0.]\n",
      "yt : [INFO     ] 2023-06-25 10:10:26,682 Parameters: domain_right_edge         = [1. 1. 1.]\n",
      "yt : [INFO     ] 2023-06-25 10:10:26,683 Parameters: cosmological_simulation   = 0\n",
      "yt : [INFO     ] 2023-06-25 10:10:27,154 xlim = 0.450000 0.550000\n",
      "yt : [INFO     ] 2023-06-25 10:10:27,154 ylim = 0.450000 0.550000\n",
      "yt : [INFO     ] 2023-06-25 10:10:27,157 xlim = 0.450000 0.550000\n",
      "yt : [INFO     ] 2023-06-25 10:10:27,157 ylim = 0.450000 0.550000\n",
      "yt : [INFO     ] 2023-06-25 10:10:27,159 Making a fixed resolution buffer of (('flash', 'temp')) 800 by 800\n",
      "yt : [INFO     ] 2023-06-25 10:10:27,391 Saving plot /gpfs/projects/CalderGroup/KianSpace/reu2023/plots/sedov/sedov_hdf5_plt_cnt_0000_Slice_z_temp.png\n",
      "yt : [INFO     ] 2023-06-25 10:10:27,595 Parameters: current_time              = 3.1000000000000005e-09\n",
      "yt : [INFO     ] 2023-06-25 10:10:27,596 Parameters: domain_dimensions         = [16 16 16]\n",
      "yt : [INFO     ] 2023-06-25 10:10:27,596 Parameters: domain_left_edge          = [0. 0. 0.]\n",
      "yt : [INFO     ] 2023-06-25 10:10:27,596 Parameters: domain_right_edge         = [1. 1. 1.]\n",
      "yt : [INFO     ] 2023-06-25 10:10:27,597 Parameters: cosmological_simulation   = 0\n",
      "yt : [INFO     ] 2023-06-25 10:10:27,906 xlim = 0.450000 0.550000\n",
      "yt : [INFO     ] 2023-06-25 10:10:27,907 ylim = 0.450000 0.550000\n",
      "yt : [INFO     ] 2023-06-25 10:10:27,909 xlim = 0.450000 0.550000\n",
      "yt : [INFO     ] 2023-06-25 10:10:27,910 ylim = 0.450000 0.550000\n",
      "yt : [INFO     ] 2023-06-25 10:10:27,912 Making a fixed resolution buffer of (('flash', 'temp')) 800 by 800\n",
      "yt : [INFO     ] 2023-06-25 10:10:28,285 Saving plot /gpfs/projects/CalderGroup/KianSpace/reu2023/plots/sedov/sedov_hdf5_plt_cnt_0001_Slice_z_temp.png\n",
      "yt : [INFO     ] 2023-06-25 10:10:28,490 Parameters: current_time              = 1.0230000000000001e-07\n",
      "yt : [INFO     ] 2023-06-25 10:10:28,492 Parameters: domain_dimensions         = [16 16 16]\n",
      "yt : [INFO     ] 2023-06-25 10:10:28,492 Parameters: domain_left_edge          = [0. 0. 0.]\n",
      "yt : [INFO     ] 2023-06-25 10:10:28,493 Parameters: domain_right_edge         = [1. 1. 1.]\n",
      "yt : [INFO     ] 2023-06-25 10:10:28,493 Parameters: cosmological_simulation   = 0\n",
      "yt : [INFO     ] 2023-06-25 10:10:28,809 xlim = 0.450000 0.550000\n",
      "yt : [INFO     ] 2023-06-25 10:10:28,810 ylim = 0.450000 0.550000\n",
      "yt : [INFO     ] 2023-06-25 10:10:28,813 xlim = 0.450000 0.550000\n",
      "yt : [INFO     ] 2023-06-25 10:10:28,813 ylim = 0.450000 0.550000\n",
      "yt : [INFO     ] 2023-06-25 10:10:28,816 Making a fixed resolution buffer of (('flash', 'temp')) 800 by 800\n",
      "yt : [INFO     ] 2023-06-25 10:10:29,046 Saving plot /gpfs/projects/CalderGroup/KianSpace/reu2023/plots/sedov/sedov_hdf5_plt_cnt_0002_Slice_z_temp.png\n",
      "yt : [INFO     ] 2023-06-25 10:10:29,255 Parameters: current_time              = 2.9426880890505942e-06\n",
      "yt : [INFO     ] 2023-06-25 10:10:29,256 Parameters: domain_dimensions         = [16 16 16]\n",
      "yt : [INFO     ] 2023-06-25 10:10:29,256 Parameters: domain_left_edge          = [0. 0. 0.]\n",
      "yt : [INFO     ] 2023-06-25 10:10:29,257 Parameters: domain_right_edge         = [1. 1. 1.]\n",
      "yt : [INFO     ] 2023-06-25 10:10:29,257 Parameters: cosmological_simulation   = 0\n",
      "yt : [INFO     ] 2023-06-25 10:10:29,735 xlim = 0.450000 0.550000\n",
      "yt : [INFO     ] 2023-06-25 10:10:29,736 ylim = 0.450000 0.550000\n",
      "yt : [INFO     ] 2023-06-25 10:10:29,739 xlim = 0.450000 0.550000\n",
      "yt : [INFO     ] 2023-06-25 10:10:29,739 ylim = 0.450000 0.550000\n",
      "yt : [INFO     ] 2023-06-25 10:10:29,741 Making a fixed resolution buffer of (('flash', 'temp')) 800 by 800\n",
      "yt : [INFO     ] 2023-06-25 10:10:29,962 Saving plot /gpfs/projects/CalderGroup/KianSpace/reu2023/plots/sedov/sedov_hdf5_plt_cnt_0003_Slice_z_temp.png\n",
      "yt : [INFO     ] 2023-06-25 10:10:30,161 Parameters: current_time              = 8.735634525741815e-06\n",
      "yt : [INFO     ] 2023-06-25 10:10:30,162 Parameters: domain_dimensions         = [16 16 16]\n",
      "yt : [INFO     ] 2023-06-25 10:10:30,162 Parameters: domain_left_edge          = [0. 0. 0.]\n",
      "yt : [INFO     ] 2023-06-25 10:10:30,162 Parameters: domain_right_edge         = [1. 1. 1.]\n",
      "yt : [INFO     ] 2023-06-25 10:10:30,163 Parameters: cosmological_simulation   = 0\n",
      "yt : [INFO     ] 2023-06-25 10:10:30,632 xlim = 0.450000 0.550000\n",
      "yt : [INFO     ] 2023-06-25 10:10:30,633 ylim = 0.450000 0.550000\n",
      "yt : [INFO     ] 2023-06-25 10:10:30,635 xlim = 0.450000 0.550000\n",
      "yt : [INFO     ] 2023-06-25 10:10:30,636 ylim = 0.450000 0.550000\n",
      "yt : [INFO     ] 2023-06-25 10:10:30,638 Making a fixed resolution buffer of (('flash', 'temp')) 800 by 800\n",
      "yt : [INFO     ] 2023-06-25 10:10:30,871 Saving plot /gpfs/projects/CalderGroup/KianSpace/reu2023/plots/sedov/sedov_hdf5_plt_cnt_0004_Slice_z_temp.png\n"
     ]
    }
   ],
   "source": [
    "for ds in s:\n",
    "    field = ('flash', 'temp')\n",
    "    slc = yt.SlicePlot(ds, 'z', field, width=(0.1, 'cm'))\n",
    "    slc.set_cmap(field, 'inferno')\n",
    "    slc.save('/gpfs/projects/CalderGroup/KianSpace/reu2023/plots/sedov/')"
   ]
  },
  {
   "cell_type": "code",
   "execution_count": null,
   "metadata": {},
   "outputs": [],
   "source": []
  }
 ],
 "metadata": {
  "kernelspec": {
   "display_name": "Python 3 (ipykernel)",
   "language": "python",
   "name": "python3"
  },
  "language_info": {
   "codemirror_mode": {
    "name": "ipython",
    "version": 3
   },
   "file_extension": ".py",
   "mimetype": "text/x-python",
   "name": "python",
   "nbconvert_exporter": "python",
   "pygments_lexer": "ipython3",
   "version": "3.8.16"
  },
  "orig_nbformat": 4
 },
 "nbformat": 4,
 "nbformat_minor": 2
}
