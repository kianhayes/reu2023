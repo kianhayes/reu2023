{
 "cells": [
  {
   "cell_type": "markdown",
   "metadata": {},
   "source": [
    "# Yt 2D Slice Plots Cookbook\n",
    "## Kian Hayes"
   ]
  },
  {
   "cell_type": "markdown",
   "metadata": {},
   "source": [
    "In this notebook, I'll be going over some of the tecniques I've used to produce Slice Plots in Yt. We'll first go over simple 2D slice plots and then move onto some more advanced things you can build on top of that to get some unique plots that will help extract different kinds of information. "
   ]
  }
 ],
 "metadata": {
  "language_info": {
   "name": "python"
  },
  "orig_nbformat": 4
 },
 "nbformat": 4,
 "nbformat_minor": 2
}
