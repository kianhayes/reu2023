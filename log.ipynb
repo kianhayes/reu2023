{
 "cells": [
  {
   "attachments": {},
   "cell_type": "markdown",
   "metadata": {},
   "source": [
    "## June 21"
   ]
  },
  {
   "attachments": {},
   "cell_type": "markdown",
   "metadata": {},
   "source": [
    "8:00 - 10:30: Flash Code\n",
    "- Spent a lot of time trying to get FLASH to work by installing the newer modules but still ran into the same problem of the executable hanging after running it. \n",
    "- Found that the milan1 nodes do not like the newer modules and use the 28core processors to run FLASH (from Cathering)"
   ]
  },
  {
   "attachments": {},
   "cell_type": "markdown",
   "metadata": {},
   "source": [
    "10:30 - 1:00: Project Group Meeting\n",
    "- Met with Brendan, Catherine, and Alan to discuss running FLASH and showing what things I've been able to visualize with yt. Learned that I can create a movie with a series of png files with a script from Brendan. Directory for this is in `/gpfs/projects/CalderGroup/BrendanSpace/movie.sh`. To run it: `bash movie.sh output_movie.mp4 <fps> path/to/images/*.png` where `<fps>` is frames per second, `bash movie.sh` is calling the script to run, `output_movie.mp4` is the name of the output video, and `path/to/images/*.png` is a directory with all of the png's to put in the movie.\n",
    "- Alan gave me the original paper published about FLASH. Will need to read that. He went on to explain things about FLASH and how it runs/makes calculations. It basically breaks a grid down into 'refinements' in which the flux is calculated between them using the 'Reimann Problem'. Will need to read paper to learn further about this."
   ]
  },
  {
   "attachments": {},
   "cell_type": "markdown",
   "metadata": {},
   "source": [
    "1:00 - 2:30: Professional Development Workshop\n",
    "- This week the speaker talked mainly about communication skills and basically social etiquette when it comes to working in a research group. \n",
    "- Main take away is to be an advocate for yourself, try to ask questions"
   ]
  },
  {
   "attachments": {},
   "cell_type": "markdown",
   "metadata": {},
   "source": [
    "Goals for tomorrow\n",
    "- Setup git repo on Seawulf\n",
    "- Run FLASH on a short 28core node\n",
    "- Make a movie from the GasSloshing data using Brendan's script\n",
    "- Start reading the FLASH paper\n",
    "- If there's time, try to do FORTRAN problems from book"
   ]
  },
  {
   "attachments": {},
   "cell_type": "markdown",
   "metadata": {},
   "source": [
    "# June 22"
   ]
  },
  {
   "attachments": {},
   "cell_type": "markdown",
   "metadata": {},
   "source": [
    "8:00 - 11:00: Nothing is working from my dorm\n",
    "- I've tried logging into Seawulf from my dorm, doesn't work. I've tried then moving onto just doing FORTRAN problems but that doesn't work either because I can't get a compiler on this laptop without admin privledges. I then try to add Python on to this laptop and that doesn't work either, not sure why but I think it again has something to do with admin privleges. Plan on just going into IACS to do whatever I need for the rest of the day. Pretty ridiculous that I have to keep dealing with stuff like this. \n",
    "- I finally got everything to work on this laptop. Had to install Python and put the python.exe in PATH when running installer. With that I was able to pip install everything. \n",
    "- I also figured out how to set up Git in VS Code. First I clicked on the three dots on source tab and clicked \"Add Remote\". This then pulled up pop ups in a browser for me to sign into GitHub. I followed all that and it started working. So now I can just add and make commits from VS Code."
   ]
  },
  {
   "attachments": {},
   "cell_type": "markdown",
   "metadata": {},
   "source": [
    "1:00 - 2:00: Meet a Professor\n",
    "- This meet a professor was not all that informational. Although main take aways were:\n",
    "    - Try to do as much research as you can in order to be a better pHd candidate.\n",
    "    - Definetly don't try to go outside of the US for a pHd."
   ]
  },
  {
   "attachments": {},
   "cell_type": "markdown",
   "metadata": {},
   "source": [
    "2:00 - 4:30: Running FLASH finally\n",
    "- I was able to run FLASH on the 28 core node but it seems that the MPI wasn't able to run when I executed it with the flash4 file. I tried just `./flash4' and that seemed to run the simulation fine but I'm afraid this will take a long time without the MPI. I need to figure out if I need to use the updated modules of MPI, GCC, HDF5 etc. because the flash4.exe I compiled first doesn't have these updated modules. At least now I know it works. I'm just going to let it run this for now and see what it outputs. It seems to be working and making calculations. \n",
    "- I just stopped it because I think it was going to take too long to run the simulation. I'm gonna try updating the used modules to see if I can get multithreading. \n",
    "- Okay just recompiled and ran it using MPI and it seems to be working and certainly running faster. Just have to wait a couple seconds for it to hang for a bit after returning the `mpiexec` command.\n",
    "- Nothing special needed to be done in order to run this. It just has to be on the 28 core node. Although, it seems that this node doesn't have the updated modules. So just stick with this until we figure out something for the milan nodes.\n",
    "- I was wondering how to change the amount of time steps it calculates and this can be found in the `flash.par` file in the variable `nend` or `tmax`. I think which ever comes first the simulation will stop on that. \n",
    "- After messing with the `flash.par` file, I found that you can change the time between when FLASH outputs a plt file. You have to change the variable called `plotFileIntervalStep`. Specifically, this changes the amount of time steps between the output of plt file. I set this to 1 and it outputs a plt file every single time step. Useful if you want to get a good looking animation with a ton of different images. I'd like to transition to see if I can get this to give me an image at a good FPS to make a nice smooth movie of the Sedov explosion. "
   ]
  },
  {
   "attachments": {},
   "cell_type": "markdown",
   "metadata": {},
   "source": [
    "Goals for tomorrow\n",
    "- Make movie using Brendan's script\n",
    "- Play with Sedov Problem a bit more\n",
    "- Setup Seawulf to be able to push commits into my git repo"
   ]
  },
  {
   "attachments": {},
   "cell_type": "markdown",
   "metadata": {},
   "source": [
    "# June 23"
   ]
  },
  {
   "attachments": {},
   "cell_type": "markdown",
   "metadata": {},
   "source": [
    "8:00 - 12:00:\n",
    "- Can't seem to login to a node on Seawulf. I've been queued for some time, not sure what the reason is. I was able to set up my git repo on Seawulf though. You have to do the following:\n",
    "    - Find your ssh key in the `.ssh` directory in the home directory\n",
    "    - Copy the name of your public key and type `cat ~/.ssh/<name-of-key.pub>`. This will print out your key.\n",
    "    - Copy this output and paste it into your ssh keys on GitHub\n",
    "    - Come back to your command line and type ssh -T git@github.com. This authorizes your computer to make changes to git. \n",
    "    - To get the clone of my git repo, I typed `git clone git@github.com:kianhayes/reu2023.git` in the directory I wanted it and it copied it.\n",
    "\n",
    "<br>\n",
    "\n",
    "- I was having trouble running FLASH again because when I ran the `mpiexec` command it would throw an error saying that files were compiled during the make process with different versions of HDF5. I spend quite a bit of time figuring out what was wrong because the make file said the HDF5 directory was correct. I found that it's likely because I had Anaconda loaded with my modules and the HDF5 version in that is different than the one I had loaded for FLASH. Unloading Anaconda seemed to fix everything\n",
    "\n",
    "- I'm now playing with the flash.par file. Specifically I'm trying to change the initial time that simulation starts although I was not getting good results doing this. It would just show a pixelated plot with no signs of an explosion. I believe changing the initial time messes with this simulation and I think that's due to how the explosion is initialized at t = 0. \n",
    "- I changed the intial time to 0 but decreased the minimum time step and that seemed to upset things quite a bit. I set it to track 10 time steps but it only output 4 at which point it threw an error saying: \n",
    "\n",
    "`DRIVER_ABORT: [Hydro]: Computed dt is not positive! Aborting! dtCheck=   0.0000000000000000`\n",
    "\n",
    "- Not sure what this means and how the time step is calculated but I'm going to ask Alan about it later to see if he has any insight. Questions:\n",
    "    * How does the simulation calculate dt\n",
    "    * I feel like getting proper plots is a dance between setting up the right refinement and volume size, how do I set up the space to give me good resolution. What's the best way to go about this dance. Would like to get to a point where I can output a plot with really high resolution and no real pixilation\n",
    "    * I want to get the simulation to output what the explosion looks like when it's very big without it starting at t = 0. Will it do this properly if I just change tinitial to a large number?"
   ]
  },
  {
   "attachments": {},
   "cell_type": "markdown",
   "metadata": {},
   "source": [
    "1:00 - 4:00\n",
    "- Meeting with Alan:\n",
    "    - First talked about how the time stepping works in fluid dynamic simulations and the importance of time step. Basically, if your time step is too big and tracked data flows outside of the box immediately next to the original then the process crashes. This can be parameterized by the CFL which is a constant involved with the calculation of the next time step to make sure things don't get out of hand. A CFL > 1 is not allowed. Setting the CFL smaller results in small time steps. The opposite is true if CFL is larger. \n",
    "    - We then moved on to talking with Catherine about running a sbatch script in which she showed me the certain parameters that needed to be changed in order to submit a job. \n",
    "    - She also outlined different parameters that can be changed in both the flash.par file and the the setup bash script regrading the amount of blocks. Basically, when the setup is ran, the max blocks is looked at and that amount of blocks is ALLOCATED to each core. Even if they aren't used entirely. So when the simulation is initialized there are 5000 blocks / core. 28 * 5000 adds up to a lot of blocks that aren't even being used. If you want to know an efficient amount to use we can look at the log file which tells the amount of blocks made by the simulation. This is often a lot smaller than 5000. This is why we often run into a problem when adding too many processes when the mpiexec command is ran. There is a memory overload and the program crashes. \n",
    "    - We then moved on to running a proper supernova problem. Where I submitted a job for that. \n"
   ]
  },
  {
   "attachments": {},
   "cell_type": "markdown",
   "metadata": {},
   "source": [
    "# VSCode on Seawulf Tutorial"
   ]
  },
  {
   "attachments": {},
   "cell_type": "markdown",
   "metadata": {},
   "source": [
    "### SSH Extension\n",
    "- It's necessary to have the extension 'Remote SSH'\n",
    "\n",
    "## Connecting to Seawulf\n",
    "- In the bottom left hand corner there is a button that looks like electricity. Click this and select 'Connect Current Window to Host'\n",
    "- It will ask for the name of remote server, in this field you'll type `your-username@login.seawulf.stonybrook.edu`. You can also use milan instead of login but you can set that up later\n",
    "- It will then prompt you for what type of operating system the remote server is running, Seawulf is obviously using Linux so click that.\n",
    "- It will then ask for your password. When the password is typed correctly, there will be a notification on DUO for you to accept. You must be careful taking to long to accept this because the SSH will time out and fail to connect if you wait long enough. \n",
    "- You're now working in what VSCode calls a \"Workspace\". VSCode specifically uses workspaces to organize the different projects developers may be working on. The workspace saves what SSH server you sign into and the directories you're working on. The great thing about VSCode is you can have your desired directories easily accessible on the side panel. To do this, in the top right corner click `File` then `Add Folder to Workspace`. Select the directory you want from Seawulf.\n",
    "    - Unfortunately, you'll have a different workspace for different SSH servers, so you'll have to make a workspace for the Login nodes and the Milan nodes. \n",
    "    - For some reason, this resets your VSCode window, in which VSCode will have you sign into the SSH server again. Just do this again (I believe it doesn't do this again after the first time).\n",
    "    - Add as many directories as you want\n",
    "\n",
    "## Jupyter on VSCode\n",
    "- The process of setting up and accessing your Jupyter server on VSCode may be easier than using a browser. The first step is to load your Anaconda environment that includes all the packages you want to use for Jupyter. Jupyter uses this environment for your Kernel. \n",
    "- In the terminal, type the command to start your Jupyter server with the usual `jupyter lab --no-browser --ip=node --port=some-number`\n",
    "- After this executes, your terminal will print the URL to the server. Copy this.\n",
    "- Open the jupyter notebook you want to work on and in the top right corner you'll see button `Select Kernel`. Click this and choose the option `Existing Jupyter server...`\n",
    "- This will then prompt you to input your URL, paste it into this field.\n",
    "- Once it connects to the server, VSCode will show a list of available Kernels to work in (It may just be one but I've often seen it show more than this, the one you want to choose will probably have a star next to it. You know this is the right one because it shows the path to your anaconda environment which is on Seawulf).\n",
    "- You should be able to work on the notebook within VSCode now.\n"
   ]
  },
  {
   "attachments": {},
   "cell_type": "markdown",
   "metadata": {},
   "source": []
  }
 ],
 "metadata": {
  "kernelspec": {
   "display_name": "Python 3",
   "language": "python",
   "name": "python3"
  },
  "language_info": {
   "codemirror_mode": {
    "name": "ipython",
    "version": 3
   },
   "file_extension": ".py",
   "mimetype": "text/x-python",
   "name": "python",
   "nbconvert_exporter": "python",
   "pygments_lexer": "ipython3",
   "version": "3.11.4"
  },
  "orig_nbformat": 4
 },
 "nbformat": 4,
 "nbformat_minor": 2
}
