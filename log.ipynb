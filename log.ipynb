{
 "cells": [
  {
   "attachments": {},
   "cell_type": "markdown",
   "metadata": {},
   "source": [
    "## June 21"
   ]
  },
  {
   "attachments": {},
   "cell_type": "markdown",
   "metadata": {},
   "source": [
    "8:00 - 10:30: Flash Code\n",
    "- Spent a lot of time trying to get FLASH to work by installing the newer modules but still ran into the same problem of the executable hanging after running it. \n",
    "- Found that the milan1 nodes do not like the newer modules and use the 28core processors to run FLASH (from Cathering)"
   ]
  },
  {
   "attachments": {},
   "cell_type": "markdown",
   "metadata": {},
   "source": [
    "10:30 - 1:00: Project Group Meeting\n",
    "- Met with Brendan, Catherine, and Alan to discuss running FLASH and showing what things I've been able to visualize with yt. Learned that I can create a movie with a series of png files with a script from Brendan. Directory for this is in `/gpfs/projects/CalderGroup/BrendanSpace/movie.sh`. To run it: `bash movie.sh output_movie.mp4 <fps> path/to/images/*.png` where `<fps>` is frames per second, `bash movie.sh` is calling the script to run, `output_movie.mp4` is the name of the output video, and `path/to/images/*.png` is a directory with all of the png's to put in the movie.\n",
    "- Alan gave me the original paper published about FLASH. Will need to read that. He went on to explain things about FLASH and how it runs/makes calculations. It basically breaks a grid down into 'refinements' in which the flux is calculated between them using the 'Reimann Problem'. Will need to read paper to learn further about this."
   ]
  },
  {
   "attachments": {},
   "cell_type": "markdown",
   "metadata": {},
   "source": [
    "1:00 - 2:30: Professional Development Workshop\n",
    "- This week the speaker talked mainly about communication skills and basically social etiquette when it comes to working in a research group. \n",
    "- Main take away is to be an advocate for yourself, try to ask questions"
   ]
  },
  {
   "attachments": {},
   "cell_type": "markdown",
   "metadata": {},
   "source": [
    "Goals for tomorrow\n",
    "- Setup git repo on Seawulf\n",
    "- Run FLASH on a short 28core node\n",
    "- Make a movie from the GasSloshing data using Brendan's script\n",
    "- Start reading the FLASH paper\n",
    "- If there's time, try to do FORTRAN problems from book"
   ]
  },
  {
   "attachments": {},
   "cell_type": "markdown",
   "metadata": {},
   "source": [
    "# June 22"
   ]
  },
  {
   "attachments": {},
   "cell_type": "markdown",
   "metadata": {},
   "source": [
    "8:00 - 11:00: Nothing is working from my dorm\n",
    "- I've tried logging into Seawulf from my dorm, doesn't work. I've tried then moving onto just doing FORTRAN problems but that doesn't work either because I can't get a compiler on this laptop without admin privledges. I then try to add Python on to this laptop and that doesn't work either, not sure why but I think it again has something to do with admin privleges. Plan on just going into IACS to do whatever I need for the rest of the day. Pretty ridiculous that I have to keep dealing with stuff like this. \n",
    "- I finally got everything to work on this laptop. Had to install Python and put the python.exe in PATH when running installer. With that I was able to pip install everything. \n",
    "- I also figured out how to set up Git in VS Code. First I clicked on the three dots on source tab and clicked \"Add Remote\". This then pulled up pop ups in a browser for me to sign into GitHub. I followed all that and it started working. So now I can just add and make commits from VS Code."
   ]
  },
  {
   "attachments": {},
   "cell_type": "markdown",
   "metadata": {},
   "source": []
  }
 ],
 "metadata": {
  "language_info": {
   "name": "python"
  },
  "orig_nbformat": 4
 },
 "nbformat": 4,
 "nbformat_minor": 2
}
