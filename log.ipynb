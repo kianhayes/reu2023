{
 "cells": [
  {
   "attachments": {},
   "cell_type": "markdown",
   "metadata": {},
   "source": [
    "## June 21"
   ]
  },
  {
   "attachments": {},
   "cell_type": "markdown",
   "metadata": {},
   "source": [
    "8:00 - 10:30: Flash Code\n",
    "- Spent a lot of time trying to get FLASH to work by installing the newer modules but still ran into the same problem of the executable hanging after running it. \n",
    "- Found that the milan1 nodes do not like the newer modules and use the 28core processors to run FLASH (from Cathering)"
   ]
  },
  {
   "attachments": {},
   "cell_type": "markdown",
   "metadata": {},
   "source": [
    "10:30 - 1:00: Project Group Meeting\n",
    "- Met with Brendan, Catherine, and Alan to discuss running FLASH and showing what things I've been able to visualize with yt. Learned that I can create a movie with a series of png files with a script from Brendan. Directory for this is in `/gpfs/projects/CalderGroup/BrendanSpace/movie.sh`. To run it: `bash movie.sh output_movie.mp4 <fps> path/to/images/*.png` where `<fps>` is frames per second, `bash movie.sh` is calling the script to run, `output_movie.mp4` is the name of the output video, and `path/to/images/*.png` is a directory with all of the png's to put in the movie.\n",
    "- Alan gave me the original paper published about FLASH. Will need to read that. He went on to explain things about FLASH and how it runs/makes calculations. It basically breaks a grid down into 'refinements' in which the flux is calculated between them using the 'Reimann Problem'. Will need to read paper to learn further about this."
   ]
  },
  {
   "attachments": {},
   "cell_type": "markdown",
   "metadata": {},
   "source": [
    "1:00 - 2:30: Professional Development Workshop\n",
    "- This week the speaker talked mainly about communication skills and basically social etiquette when it comes to working in a research group. \n",
    "- Main take away is to be an advocate for yourself, try to ask questions"
   ]
  },
  {
   "attachments": {},
   "cell_type": "markdown",
   "metadata": {},
   "source": [
    "Goals for tomorrow\n",
    "- Setup git repo on Seawulf\n",
    "- Run FLASH on a short 28core node\n",
    "- Make a movie from the GasSloshing data using Brendan's script\n",
    "- Start reading the FLASH paper\n",
    "- If there's time, try to do FORTRAN problems from book"
   ]
  },
  {
   "attachments": {},
   "cell_type": "markdown",
   "metadata": {},
   "source": [
    "# June 22"
   ]
  },
  {
   "attachments": {},
   "cell_type": "markdown",
   "metadata": {},
   "source": [
    "8:00 - 11:00: Nothing is working from my dorm\n",
    "- I've tried logging into Seawulf from my dorm, doesn't work. I've tried then moving onto just doing FORTRAN problems but that doesn't work either because I can't get a compiler on this laptop without admin privledges. I then try to add Python on to this laptop and that doesn't work either, not sure why but I think it again has something to do with admin privleges. Plan on just going into IACS to do whatever I need for the rest of the day. Pretty ridiculous that I have to keep dealing with stuff like this. \n",
    "- I finally got everything to work on this laptop. Had to install Python and put the python.exe in PATH when running installer. With that I was able to pip install everything. \n",
    "- I also figured out how to set up Git in VS Code. First I clicked on the three dots on source tab and clicked \"Add Remote\". This then pulled up pop ups in a browser for me to sign into GitHub. I followed all that and it started working. So now I can just add and make commits from VS Code."
   ]
  },
  {
   "attachments": {},
   "cell_type": "markdown",
   "metadata": {},
   "source": [
    "1:00 - 2:00: Meet a Professor\n",
    "- This meet a professor was not all that informational. Although main take aways were:\n",
    "    - Try to do as much research as you can in order to be a better pHd candidate.\n",
    "    - Definetly don't try to go outside of the US for a pHd."
   ]
  },
  {
   "attachments": {},
   "cell_type": "markdown",
   "metadata": {},
   "source": [
    "2:00 - 4:30: Running FLASH finally\n",
    "- I was able to run FLASH on the 28 core node but it seems that the MPI wasn't able to run when I executed it with the flash4 file. I tried just `./flash4' and that seemed to run the simulation fine but I'm afraid this will take a long time without the MPI. I need to figure out if I need to use the updated modules of MPI, GCC, HDF5 etc. because the flash4.exe I compiled first doesn't have these updated modules. At least now I know it works. I'm just going to let it run this for now and see what it outputs. It seems to be working and making calculations. \n",
    "- I just stopped it because I think it was going to take too long to run the simulation. I'm gonna try updating the used modules to see if I can get multithreading. \n",
    "- Okay just recompiled and ran it using MPI and it seems to be working and certainly running faster. Just have to wait a couple seconds for it to hang for a bit after returning the `mpiexec` command.\n",
    "- Nothing special needed to be done in order to run this. It just has to be on the 28 core node. Although, it seems that this node doesn't have the updated modules. So just stick with this until we figure out something for the milan nodes.\n",
    "- I was wondering how to change the amount of time steps it calculates and this can be found in the `flash.par` file in the variable `nend` or `tmax`. I think which ever comes first the simulation will stop on that. \n",
    "- After messing with the `flash.par` file, I found that you can change the time between when FLASH outputs a plt file. You have to change the variable called `plotFileIntervalStep`. Specifically, this changes the amount of time steps between the output of plt file. I set this to 1 and it outputs a plt file every single time step. Useful if you want to get a good looking animation with a ton of different images. I'd like to transition to see if I can get this to give me an image at a good FPS to make a nice smooth movie of the Sedov explosion. "
   ]
  },
  {
   "attachments": {},
   "cell_type": "markdown",
   "metadata": {},
   "source": [
    "Goals for tomorrow\n",
    "- Make movie using Brendan's script\n",
    "- Play with Sedov Problem a bit more\n",
    "- Setup Seawulf to be able to push commits into my git repo"
   ]
  },
  {
   "attachments": {},
   "cell_type": "markdown",
   "metadata": {},
   "source": [
    "# June 23"
   ]
  },
  {
   "attachments": {},
   "cell_type": "markdown",
   "metadata": {},
   "source": [
    "8:00 - 12:00:\n",
    "- Can't seem to login to a node on Seawulf. I've been queued for some time, not sure what the reason is. I was able to set up my git repo on Seawulf though. You have to do the following:\n",
    "    - Find your ssh key in the `.ssh` directory in the home directory\n",
    "    - Copy the name of your public key and type `cat ~/.ssh/<name-of-key.pub>`. This will print out your key.\n",
    "    - Copy this output and paste it into your ssh keys on GitHub\n",
    "    - Come back to your command line and type ssh -T git@github.com. This authorizes your computer to make changes to git. \n",
    "    - To get the clone of my git repo, I typed `git clone git@github.com:kianhayes/reu2023.git` in the directory I wanted it and it copied it.\n",
    "\n",
    "<br>\n",
    "\n",
    "- I was having trouble running FLASH again because when I ran the `mpiexec` command it would throw an error saying that files were compiled during the make process with different versions of HDF5. I spend quite a bit of time figuring out what was wrong because the make file said the HDF5 directory was correct. I found that it's likely because I had Anaconda loaded with my modules and the HDF5 version in that is different than the one I had loaded for FLASH. Unloading Anaconda seemed to fix everything\n",
    "\n",
    "- I'm now playing with the flash.par file. Specifically I'm trying to change the initial time that simulation starts although I was not getting good results doing this. It would just show a pixelated plot with no signs of an explosion. I believe changing the initial time messes with this simulation and I think that's due to how the explosion is initialized at t = 0. \n",
    "- I changed the intial time to 0 but decreased the minimum time step and that seemed to upset things quite a bit. I set it to track 10 time steps but it only output 4 at which point it threw an error saying: \n",
    "\n",
    "`DRIVER_ABORT: [Hydro]: Computed dt is not positive! Aborting! dtCheck=   0.0000000000000000`\n",
    "\n",
    "- Not sure what this means and how the time step is calculated but I'm going to ask Alan about it later to see if he has any insight. \n",
    "\n"
   ]
  },
  {
   "attachments": {},
   "cell_type": "markdown",
   "metadata": {},
   "source": []
  }
 ],
 "metadata": {
  "kernelspec": {
   "display_name": "Python 3",
   "language": "python",
   "name": "python3"
  },
  "language_info": {
   "codemirror_mode": {
    "name": "ipython",
    "version": 3
   },
   "file_extension": ".py",
   "mimetype": "text/x-python",
   "name": "python",
   "nbconvert_exporter": "python",
   "pygments_lexer": "ipython3",
   "version": "3.11.4"
  },
  "orig_nbformat": 4
 },
 "nbformat": 4,
 "nbformat_minor": 2
}
